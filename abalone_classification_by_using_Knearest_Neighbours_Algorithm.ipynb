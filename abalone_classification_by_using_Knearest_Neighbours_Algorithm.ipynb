{
 "cells": [
  {
   "cell_type": "markdown",
   "metadata": {},
   "source": [
    "# K-Nearest Neighbours Algorithm\n",
    "\n",
    "### We are going to predict the age of abalone."
   ]
  },
  {
   "cell_type": "markdown",
   "metadata": {},
   "source": [
    "##### Importing the libraries that are needed"
   ]
  },
  {
   "cell_type": "code",
   "execution_count": 53,
   "metadata": {},
   "outputs": [],
   "source": [
    "import pandas as pd\n",
    "import numpy as nm\n",
    "\n",
    "from sklearn.model_selection import train_test_split\n",
    "from sklearn.preprocessing import StandardScaler\n",
    "from sklearn.neighbors import KNeighborsClassifier\n",
    "from sklearn.metrics import confusion_matrix\n",
    "from sklearn.metrics import f1_score\n",
    "from sklearn.metrics import accuracy_score"
   ]
  },
  {
   "cell_type": "markdown",
   "metadata": {},
   "source": [
    "### Reading the Dataset"
   ]
  },
  {
   "cell_type": "code",
   "execution_count": 38,
   "metadata": {},
   "outputs": [
    {
     "name": "stdout",
     "output_type": "stream",
     "text": [
      "4177\n"
     ]
    },
    {
     "data": {
      "text/html": [
       "<div>\n",
       "<style scoped>\n",
       "    .dataframe tbody tr th:only-of-type {\n",
       "        vertical-align: middle;\n",
       "    }\n",
       "\n",
       "    .dataframe tbody tr th {\n",
       "        vertical-align: top;\n",
       "    }\n",
       "\n",
       "    .dataframe thead th {\n",
       "        text-align: right;\n",
       "    }\n",
       "</style>\n",
       "<table border=\"1\" class=\"dataframe\">\n",
       "  <thead>\n",
       "    <tr style=\"text-align: right;\">\n",
       "      <th></th>\n",
       "      <th>Sex</th>\n",
       "      <th>Length</th>\n",
       "      <th>Diameter</th>\n",
       "      <th>Height</th>\n",
       "      <th>Whole weight</th>\n",
       "      <th>Shucked weight</th>\n",
       "      <th>Viscera weight</th>\n",
       "      <th>Shell weight</th>\n",
       "      <th>Rings</th>\n",
       "    </tr>\n",
       "  </thead>\n",
       "  <tbody>\n",
       "    <tr>\n",
       "      <th>0</th>\n",
       "      <td>M</td>\n",
       "      <td>0.455</td>\n",
       "      <td>0.365</td>\n",
       "      <td>0.095</td>\n",
       "      <td>0.5140</td>\n",
       "      <td>0.2245</td>\n",
       "      <td>0.1010</td>\n",
       "      <td>0.150</td>\n",
       "      <td>15</td>\n",
       "    </tr>\n",
       "    <tr>\n",
       "      <th>1</th>\n",
       "      <td>M</td>\n",
       "      <td>0.350</td>\n",
       "      <td>0.265</td>\n",
       "      <td>0.090</td>\n",
       "      <td>0.2255</td>\n",
       "      <td>0.0995</td>\n",
       "      <td>0.0485</td>\n",
       "      <td>0.070</td>\n",
       "      <td>7</td>\n",
       "    </tr>\n",
       "    <tr>\n",
       "      <th>2</th>\n",
       "      <td>F</td>\n",
       "      <td>0.530</td>\n",
       "      <td>0.420</td>\n",
       "      <td>0.135</td>\n",
       "      <td>0.6770</td>\n",
       "      <td>0.2565</td>\n",
       "      <td>0.1415</td>\n",
       "      <td>0.210</td>\n",
       "      <td>9</td>\n",
       "    </tr>\n",
       "    <tr>\n",
       "      <th>3</th>\n",
       "      <td>M</td>\n",
       "      <td>0.440</td>\n",
       "      <td>0.365</td>\n",
       "      <td>0.125</td>\n",
       "      <td>0.5160</td>\n",
       "      <td>0.2155</td>\n",
       "      <td>0.1140</td>\n",
       "      <td>0.155</td>\n",
       "      <td>10</td>\n",
       "    </tr>\n",
       "    <tr>\n",
       "      <th>4</th>\n",
       "      <td>I</td>\n",
       "      <td>0.330</td>\n",
       "      <td>0.255</td>\n",
       "      <td>0.080</td>\n",
       "      <td>0.2050</td>\n",
       "      <td>0.0895</td>\n",
       "      <td>0.0395</td>\n",
       "      <td>0.055</td>\n",
       "      <td>7</td>\n",
       "    </tr>\n",
       "  </tbody>\n",
       "</table>\n",
       "</div>"
      ],
      "text/plain": [
       "  Sex  Length  Diameter  Height  Whole weight  Shucked weight  Viscera weight  \\\n",
       "0   M   0.455     0.365   0.095        0.5140          0.2245          0.1010   \n",
       "1   M   0.350     0.265   0.090        0.2255          0.0995          0.0485   \n",
       "2   F   0.530     0.420   0.135        0.6770          0.2565          0.1415   \n",
       "3   M   0.440     0.365   0.125        0.5160          0.2155          0.1140   \n",
       "4   I   0.330     0.255   0.080        0.2050          0.0895          0.0395   \n",
       "\n",
       "   Shell weight  Rings  \n",
       "0         0.150     15  \n",
       "1         0.070      7  \n",
       "2         0.210      9  \n",
       "3         0.155     10  \n",
       "4         0.055      7  "
      ]
     },
     "execution_count": 38,
     "metadata": {},
     "output_type": "execute_result"
    }
   ],
   "source": [
    "data=pd.read_csv('abalone.csv')\n",
    "print(len(data))\n",
    "data.head()"
   ]
  },
  {
   "cell_type": "markdown",
   "metadata": {},
   "source": [
    "### Replacing zeros with the means of the respective columns"
   ]
  },
  {
   "cell_type": "code",
   "execution_count": 40,
   "metadata": {},
   "outputs": [],
   "source": [
    "zero_not_accepted = ['Length', 'Diameter', 'Height','Shell weight']\n",
    "\n",
    "for col in zero_not_accepted:\n",
    "    data[col] = data[col].replace(0,nm.NaN)\n",
    "    mean = int(data[col].mean(skipna=True))\n",
    "    data[col] = data[col].replace(nm.NaN,mean)\n",
    "    "
   ]
  },
  {
   "cell_type": "markdown",
   "metadata": {},
   "source": [
    "### Splitting the dataset into training and testing datasets"
   ]
  },
  {
   "cell_type": "code",
   "execution_count": 61,
   "metadata": {},
   "outputs": [],
   "source": [
    "A = data.iloc[:,1:8]\n",
    "B = data.iloc[:,8]\n",
    "A_train, A_test, B_train, B_test = train_test_split(A, B, random_state=0, test_size=0.2)"
   ]
  },
  {
   "cell_type": "markdown",
   "metadata": {},
   "source": [
    "# Feature Scaling :"
   ]
  },
  {
   "cell_type": "markdown",
   "metadata": {},
   "source": [
    "#### Any algorithm that computes distance or assumes normality, we have to scale our features"
   ]
  },
  {
   "cell_type": "code",
   "execution_count": 62,
   "metadata": {},
   "outputs": [],
   "source": [
    "sc_A = StandardScaler()\n",
    "A_train = sc_A.fit_transform(A_train)\n",
    "A_test = sc_A.transform(A_test)\n"
   ]
  },
  {
   "cell_type": "markdown",
   "metadata": {},
   "source": [
    "### Finding the value of k for this model"
   ]
  },
  {
   "cell_type": "code",
   "execution_count": 63,
   "metadata": {},
   "outputs": [
    {
     "data": {
      "text/plain": [
       "28.91366458960192"
      ]
     },
     "execution_count": 63,
     "metadata": {},
     "output_type": "execute_result"
    }
   ],
   "source": [
    "import math\n",
    "math.sqrt(len(B_test))"
   ]
  },
  {
   "cell_type": "markdown",
   "metadata": {},
   "source": [
    "##### but 28 is an even number, so we need to subtract 1 from it and use k=27\n",
    "\n",
    "##### Defining the model: Init K-NN"
   ]
  },
  {
   "cell_type": "code",
   "execution_count": 64,
   "metadata": {},
   "outputs": [],
   "source": [
    "classifier = KNeighborsClassifier(n_neighbors=27, p=2, metric='euclidean')\n"
   ]
  },
  {
   "cell_type": "markdown",
   "metadata": {},
   "source": [
    "#### Fitting the train data into the model"
   ]
  },
  {
   "cell_type": "code",
   "execution_count": 65,
   "metadata": {},
   "outputs": [
    {
     "data": {
      "text/plain": [
       "KNeighborsClassifier(metric='euclidean', n_neighbors=27)"
      ]
     },
     "execution_count": 65,
     "metadata": {},
     "output_type": "execute_result"
    }
   ],
   "source": [
    "from sklearn import preprocessing\n",
    "from sklearn import utils\n",
    "\n",
    "#convert B values to categorical values\n",
    "lab = preprocessing.LabelEncoder()\n",
    "B_transformed = lab.fit_transform(B)\n",
    "classifier.fit(A, B_transformed)"
   ]
  },
  {
   "cell_type": "markdown",
   "metadata": {},
   "source": [
    "##### Predicting the test set results"
   ]
  },
  {
   "cell_type": "code",
   "execution_count": 66,
   "metadata": {},
   "outputs": [
    {
     "data": {
      "text/plain": [
       "array([ 8,  3, 10,  3, 10,  9,  3,  3,  3, 11,  3,  3,  3,  3,  3,  8,  3,\n",
       "       13,  8,  3,  3,  3,  3,  3,  5,  6,  3, 10,  4,  3,  3,  3,  7, 10,\n",
       "        3,  3,  3,  8,  3,  9,  6,  3,  3,  4,  9,  3,  7,  9,  4,  3,  6,\n",
       "        3,  3, 11,  3,  3,  3,  3,  3,  3,  8,  7,  8,  3,  3, 10, 10, 11,\n",
       "        3, 11,  3, 11,  9,  5,  5,  3,  5,  3, 10,  3,  7,  3,  3,  7,  4,\n",
       "        3,  7, 10,  3,  3,  6,  6,  3,  3,  4,  3,  3,  3,  7, 10, 10,  3,\n",
       "       10,  8,  3, 10,  3,  3,  3, 10, 10, 10,  3,  4,  8, 10, 10,  9,  3,\n",
       "        3,  3,  6,  3,  3,  5, 12, 10, 10,  3, 10,  8,  3,  3, 10, 10,  8,\n",
       "        3,  3,  3, 10,  3,  3,  3,  7,  7,  6,  3,  3,  3,  3,  3, 11,  3,\n",
       "        8,  3,  3,  7,  3, 14,  3,  3,  3,  3,  8,  3, 12,  3,  3,  3,  3,\n",
       "        6,  3,  3,  8,  9, 10,  3,  3,  3,  3,  3,  7,  3,  3,  6,  3,  8,\n",
       "        3,  3,  3,  7,  3,  3,  7,  6,  3,  3,  3,  3, 10,  3,  3, 11,  4,\n",
       "        8,  9,  3, 10,  3,  3,  3,  4,  3,  7,  9,  3,  4, 10,  3, 11,  3,\n",
       "       10,  3,  9, 10, 12, 10,  3, 10,  8,  3,  3,  3, 11,  3,  9,  3,  3,\n",
       "        3,  4,  3,  8,  3,  8,  3,  6, 10,  3,  8, 15,  9,  3, 10, 10,  6,\n",
       "        3,  3,  3,  7, 11,  8,  3,  7,  3,  3,  3,  3,  3,  3,  3,  3,  3,\n",
       "        3,  3,  3, 10, 11,  3,  7,  3,  3, 10,  3,  9, 10,  6,  3, 10,  6,\n",
       "        9,  3,  3,  3,  3,  3,  3,  3,  3,  4, 15,  3,  3, 10,  3,  3,  3,\n",
       "        3,  6,  3,  5, 10, 10,  3,  6, 12,  7,  3,  3,  3,  3,  9,  6,  3,\n",
       "       10,  7,  3,  3,  5, 11, 10,  3, 10,  3,  8,  6, 10,  3,  3, 10,  4,\n",
       "        3,  3, 10,  9,  6,  3,  3,  3, 11,  3,  3,  5, 10, 10, 10,  3, 10,\n",
       "       10,  3,  3,  3,  6,  3,  8, 10,  3,  3,  3,  3,  3,  8,  3,  9,  3,\n",
       "       10,  9, 11,  3,  3,  3,  3,  4,  8, 11,  3, 10, 11,  3,  3,  3, 11,\n",
       "        6,  3,  3, 16,  3, 10,  3,  6,  3,  3,  6,  3, 10,  3, 11,  3, 10,\n",
       "       15,  3,  3,  3, 10,  3, 10,  4, 12,  9, 10, 10,  3,  3,  8,  9,  3,\n",
       "        3,  3,  9,  8,  7,  3, 10,  3,  8,  3,  3, 10,  3,  5, 10,  3,  3,\n",
       "       11,  3,  3,  3,  7,  3,  3,  9,  3,  3,  8,  3,  3,  3,  8,  5,  3,\n",
       "        9,  3, 11,  3,  6,  3, 11,  3, 11,  3,  3,  5,  2,  3, 15,  3,  3,\n",
       "        3,  3,  3, 10,  3, 10,  3,  3, 10,  9,  7,  3,  3, 10,  3,  6,  3,\n",
       "        4,  3,  3,  3,  3,  8,  8,  3,  9,  3, 11,  9,  7,  3, 15,  3,  3,\n",
       "        3,  7, 10, 13,  3,  3,  8, 11, 15,  6,  4,  3, 10,  7,  3, 10,  3,\n",
       "        3,  3,  3,  3,  3,  3,  3,  3,  6, 10, 10,  8, 10,  3,  6,  3,  7,\n",
       "        3,  8,  3,  3,  9,  8,  4, 11,  3, 11,  9,  3,  3,  3,  7,  4,  3,\n",
       "        8, 10,  3, 10,  3,  3,  5,  5,  3,  3,  3,  3,  5,  3,  3,  3,  4,\n",
       "       10,  3,  9,  3,  3,  3,  3,  6, 11, 12,  3,  9,  3,  3, 10,  3,  9,\n",
       "       10,  3,  3,  3, 10,  3, 10,  6,  8, 10,  3,  8,  3,  4, 10,  3, 11,\n",
       "        6,  3,  3, 11,  3,  3, 11,  4,  3, 10,  3,  4,  9,  6,  3, 12,  3,\n",
       "        3,  3,  3,  3,  3,  3,  4,  3, 10,  3,  3,  3, 10,  9,  8,  7,  3,\n",
       "        3,  3, 11,  3,  3,  3,  3,  5,  3, 10,  3,  3,  8,  7,  3,  3, 12,\n",
       "        3,  3,  3,  3,  3,  3,  3,  5, 10, 20,  9,  3,  3,  3,  3,  3, 11,\n",
       "        7,  4,  9,  3,  3,  3,  6, 10,  3, 15,  8,  9,  3, 10,  3, 10, 11,\n",
       "        6,  3,  3,  3,  6,  8,  9,  3,  6,  3,  3, 10,  7,  3,  3,  3,  7,\n",
       "        3,  3,  7,  3,  3,  3,  7,  3,  3,  3, 13,  3, 10,  3,  3,  8,  6,\n",
       "        8,  9, 10,  3,  4,  3,  9,  3,  3,  6,  3,  3,  3,  4,  3,  8,  3,\n",
       "        3,  3,  4,  3,  3, 10,  3,  9,  3,  3,  6,  7,  3,  3,  3,  3,  6,\n",
       "        3, 10,  8,  6,  3,  3,  3,  3,  8,  3,  3,  3,  3,  3,  6, 10,  4,\n",
       "        3,  3,  3,  7,  3,  3, 10,  4,  4, 10, 10,  6,  9,  6,  3,  7,  3,\n",
       "        3,  3,  3,  3,  3,  3,  3,  3, 10,  3,  3,  3,  3,  7,  4, 10,  3,\n",
       "        5,  8,  4,  3,  3,  3, 10,  3,  3,  4,  7,  3,  3,  3,  3,  9,  3,\n",
       "        3,  7,  3], dtype=int64)"
      ]
     },
     "execution_count": 66,
     "metadata": {},
     "output_type": "execute_result"
    }
   ],
   "source": [
    "B_pred=classifier.predict(A_test)\n",
    "B_pred"
   ]
  },
  {
   "cell_type": "markdown",
   "metadata": {},
   "source": [
    "## Evaluating the Model"
   ]
  },
  {
   "cell_type": "markdown",
   "metadata": {},
   "source": [
    "##### Confusion matrix"
   ]
  },
  {
   "cell_type": "code",
   "execution_count": 67,
   "metadata": {},
   "outputs": [
    {
     "name": "stdout",
     "output_type": "stream",
     "text": [
      "[[ 0  0  0  0  0  0  0  0  0  0  0  0  0  0  0  0  0  0  0  0  0  0  0]\n",
      " [ 0  5  0  0  0  0  0  0  0  0  0  0  0  0  0  0  0  0  0  0  0  0  0]\n",
      " [ 0 11  0  0  0  0  0  0  0  0  0  0  0  0  0  0  0  0  0  0  0  0  0]\n",
      " [ 0 33  0  0  0  0  0  0  0  0  0  0  0  0  0  0  0  0  0  0  0  0  0]\n",
      " [ 0 46  0  1  0  0  0  0  0  0  0  0  0  0  0  0  0  0  0  0  0  0  0]\n",
      " [ 0 92  0  0  2  0  4  0  0  0  0  0  0  0  0  0  0  0  0  0  0  0  0]\n",
      " [ 0 84  7  4  7  4  1  3  3  0  0  0  0  0  0  0  0  0  0  0  0  0  0]\n",
      " [ 0 64  4  3 10 16 14  3 11  2  0  0  0  0  0  0  0  0  0  0  0  0  0]\n",
      " [ 1 31  6  5  9  6  7 10 25  4  1  0  1  1  0  0  0  0  0  0  0  0  0]\n",
      " [ 0 29  5  1  6  1 11 12 25  5  0  0  0  0  0  0  0  0  0  0  0  0  0]\n",
      " [ 0 19  3  1  4  1  7  6 15  6  2  0  0  1  0  0  0  0  1  0  0  0  0]\n",
      " [ 0 13  1  0  3  2  2  3 11  3  0  1  0  0  0  0  0  0  0  0  0  0  0]\n",
      " [ 0 12  2  0  1  1  2  2  2  3  1  0  0  0  0  0  0  0  0  0  0  0  0]\n",
      " [ 0  3  0  1  2  2  0  1  4  2  1  1  0  1  0  0  0  0  0  0  0  0  0]\n",
      " [ 0  3  4  0  0  2  0  0  3  0  1  0  0  1  0  0  0  0  0  0  0  0  0]\n",
      " [ 0  1  0  1  0  1  0  0  2  4  0  1  0  0  0  0  0  0  0  0  0  0  0]\n",
      " [ 0  1  0  0  0  1  0  1  1  0  0  0  0  1  0  0  0  0  0  0  0  0  0]\n",
      " [ 0  2  1  0  0  1  0  0  2  1  0  0  0  1  0  0  0  0  0  0  0  0  0]\n",
      " [ 0  2  0  0  0  1  0  1  0  1  2  0  0  1  0  0  0  0  0  0  0  0  0]\n",
      " [ 0  0  0  0  0  1  0  0  0  0  0  0  0  0  1  0  0  0  0  0  0  0  0]\n",
      " [ 0  1  0  0  0  0  0  0  0  0  0  0  0  0  0  0  0  0  0  0  0  0  0]\n",
      " [ 0  1  0  0  0  0  0  0  0  1  0  0  0  0  0  0  0  0  0  0  0  0  0]\n",
      " [ 0  0  0  0  0  0  0  0  0  1  0  0  0  0  0  0  0  0  0  0  0  0  0]]\n"
     ]
    }
   ],
   "source": [
    "co_m=confusion_matrix(B_test, B_pred)\n",
    "print(co_m)"
   ]
  },
  {
   "cell_type": "markdown",
   "metadata": {},
   "source": [
    "#### f1 score"
   ]
  },
  {
   "cell_type": "code",
   "execution_count": 75,
   "metadata": {},
   "outputs": [
    {
     "name": "stdout",
     "output_type": "stream",
     "text": [
      "0.024631491577450062\n"
     ]
    }
   ],
   "source": [
    "print(f1_score(B_test,B_pred,average='macro'))"
   ]
  },
  {
   "cell_type": "markdown",
   "metadata": {},
   "source": [
    "### Accuracy"
   ]
  },
  {
   "cell_type": "code",
   "execution_count": 76,
   "metadata": {},
   "outputs": [
    {
     "name": "stdout",
     "output_type": "stream",
     "text": [
      "0.05143540669856459\n"
     ]
    }
   ],
   "source": [
    "print(accuracy_score(B_test,B_pred))"
   ]
  }
 ],
 "metadata": {
  "kernelspec": {
   "display_name": "Python 3.9.7 ('base')",
   "language": "python",
   "name": "python3"
  },
  "language_info": {
   "codemirror_mode": {
    "name": "ipython",
    "version": 3
   },
   "file_extension": ".py",
   "mimetype": "text/x-python",
   "name": "python",
   "nbconvert_exporter": "python",
   "pygments_lexer": "ipython3",
   "version": "3.9.7"
  },
  "orig_nbformat": 4,
  "vscode": {
   "interpreter": {
    "hash": "2043299c89c8cd0b4d1a6f5cf4529bd58e6a4e0fe3181a25e0d328c821cdc5c5"
   }
  }
 },
 "nbformat": 4,
 "nbformat_minor": 2
}
